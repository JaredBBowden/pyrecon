{
 "metadata": {
  "name": ""
 },
 "nbformat": 3,
 "nbformat_minor": 0,
 "worksheets": [
  {
   "cells": [
    {
     "cell_type": "markdown",
     "metadata": {},
     "source": [
      "**IMPORTS**"
     ]
    },
    {
     "cell_type": "code",
     "collapsed": false,
     "input": [
      "%gui qt\n",
      "import pyrecon, sys\n",
      "from multiprocessing import Process, Queue\n",
      "from PySide import QtCore, QtGui"
     ],
     "language": "python",
     "metadata": {},
     "outputs": [],
     "prompt_number": 1
    },
    {
     "cell_type": "markdown",
     "metadata": {},
     "source": [
      "**Create GUI application** (only once per kernel and if '%gui qt' is IMPORTS is commented out)"
     ]
    },
    {
     "cell_type": "code",
     "collapsed": false,
     "input": [
      "# app = QtGui.QApplication([])"
     ],
     "language": "python",
     "metadata": {},
     "outputs": [],
     "prompt_number": 2
    },
    {
     "cell_type": "markdown",
     "metadata": {},
     "source": [
      "**Define GUI classes**"
     ]
    },
    {
     "cell_type": "code",
     "collapsed": false,
     "input": [
      "class sectionImageResolver(QtGui.QFrame):\n",
      "    def __init__(self, image1, image2):\n",
      "        QtGui.QFrame.__init__(self)\n",
      "        self.loadObjects()\n",
      "        self.loadFunctions(image1,image2)\n",
      "        self.loadLayout()\n",
      "        self.image = None\n",
      "        self.show()\n",
      "    def loadObjects(self):\n",
      "        self.img1label = QtGui.QLabel(self)\n",
      "        self.img2label = QtGui.QLabel(self)\n",
      "        self.img1detail = QtGui.QLabel(self)\n",
      "        self.img2detail = QtGui.QLabel(self)\n",
      "        self.pick1 = QtGui.QPushButton(self)\n",
      "        self.pick2 = QtGui.QPushButton(self)\n",
      "    def loadFunctions(self, image1, image2):\n",
      "        self.img1 = image1\n",
      "        self.img2 = image2\n",
      "        self.img1label.setText('Section A\\'s Image\\n'+'-'*17)\n",
      "        self.img1label.setAlignment(QtCore.Qt.AlignHCenter)\n",
      "        self.img2label.setText('Section B\\'s Image\\n'+'-'*17)\n",
      "        self.img2label.setAlignment(QtCore.Qt.AlignHCenter)\n",
      "        self.img1detail.setText('\\n'.join([(str(item)+':\\t'+str(image1.__dict__[item])) for item in image1.__dict__ if item != 'transform']))\n",
      "        self.img2detail.setText('\\n'.join([(str(item)+':\\t'+str(image2.__dict__[item])) for item in image2.__dict__ if item != 'transform']))\n",
      "        self.pick1.setText('Choose this image')\n",
      "        self.pick2.setText('Choose this image')\n",
      "        self.pick1.clicked.connect( self.ret1 ) #===\n",
      "        self.pick2.clicked.connect( self.ret2 ) #===\n",
      "    def loadLayout(self):\n",
      "    \tself.setWindowTitle('PyRECONSTRUCT Section Image Resolver')\n",
      "        self.setFrameStyle(QtGui.QFrame.Box|QtGui.QFrame.Plain)\n",
      "        self.setLineWidth(2)\n",
      "        self.setMidLineWidth(3)\n",
      "        hbox = QtGui.QHBoxLayout()\n",
      "        # Left image\n",
      "        vbox1 = QtGui.QVBoxLayout()\n",
      "        vbox1.addWidget(self.img1label)\n",
      "        vbox1.addWidget(self.img1detail)\n",
      "        vbox1.addWidget(self.pick1)\n",
      "        # Right image\n",
      "        vbox2 = QtGui.QVBoxLayout()\n",
      "        vbox2.addWidget(self.img2label)\n",
      "        vbox2.addWidget(self.img2detail)\n",
      "        vbox2.addWidget(self.pick2)\n",
      "        hbox.addLayout(vbox1)\n",
      "        hbox.addSpacing(50)\n",
      "        hbox.addLayout(vbox2)\n",
      "        self.setLayout(hbox)\n",
      "    def ret1(self): #===\n",
      "        self.image = self.img1\n",
      "        print self.image #===\n",
      "        self.close()\n",
      "    def ret2(self): #===\n",
      "        self.image = self.img2\n",
      "        print self.image #===\n",
      "        self.close()\n",
      "        \n",
      "def main(img1, img2):\n",
      "    q = Queue()\n",
      "    p = Process( target=sectionImageResolver, args=(img1,img2,) )\n",
      "    print('pre start')\n",
      "    p.start()\n",
      "    print('post start')\n",
      "    print('pre join')\n",
      "    p.join()\n",
      "    print('post join')"
     ],
     "language": "python",
     "metadata": {},
     "outputs": [],
     "prompt_number": 3
    },
    {
     "cell_type": "markdown",
     "metadata": {},
     "source": [
      "**Load Series objects**"
     ]
    },
    {
     "cell_type": "code",
     "collapsed": false,
     "input": [
      "series1 = pyrecon.openSeries('/home/michaelm/Documents/Test Series/Tool Tests/merge/ser1/')\n",
      "series2 = pyrecon.openSeries('/home/michaelm/Documents/Test Series/Tool Tests/merge/ser2/')\n",
      "section1 = series1.sections[5]\n",
      "section2 = series2.sections[5]"
     ],
     "language": "python",
     "metadata": {},
     "outputs": [
      {
       "output_type": "stream",
       "stream": "stdout",
       "text": [
        "Attempting to load sections...  SUCCESS!\n",
        "Attempting to load sections...  SUCCESS!\n"
       ]
      }
     ],
     "prompt_number": 4
    },
    {
     "cell_type": "markdown",
     "metadata": {},
     "source": [
      "**Run GUI handler**"
     ]
    },
    {
     "cell_type": "code",
     "collapsed": false,
     "input": [
      "main(section1.image, section2.image)"
     ],
     "language": "python",
     "metadata": {},
     "outputs": [
      {
       "output_type": "stream",
       "stream": "stdout",
       "text": [
        "pre start\n"
       ]
      },
      {
       "output_type": "stream",
       "stream": "stdout",
       "text": [
        "post start\n",
        "pre join\n",
        "post join\n"
       ]
      }
     ],
     "prompt_number": 5
    },
    {
     "cell_type": "code",
     "collapsed": false,
     "input": [
      "sectionImageResolver(section1.image, section2.image)"
     ],
     "language": "python",
     "metadata": {},
     "outputs": [
      {
       "metadata": {},
       "output_type": "pyout",
       "prompt_number": 7,
       "text": [
        "<__main__.sectionImageResolver at 0x50c3b48>"
       ]
      }
     ],
     "prompt_number": 7
    },
    {
     "cell_type": "code",
     "collapsed": false,
     "input": [
      "help(QtCore.QThread())"
     ],
     "language": "python",
     "metadata": {},
     "outputs": [
      {
       "output_type": "stream",
       "stream": "stdout",
       "text": [
        "Help on QThread object:\n",
        "\n",
        "class QThread(QObject)\n",
        " |  Method resolution order:\n",
        " |      QThread\n",
        " |      QObject\n",
        " |      Shiboken.Object\n",
        " |      __builtin__.object\n",
        " |  \n",
        " |  Methods defined here:\n",
        " |  \n",
        " |  __init__(...)\n",
        " |      x.__init__(...) initializes x; see help(type(x)) for signature\n",
        " |  \n",
        " |  exec_(...)\n",
        " |  \n",
        " |  exit(...)\n",
        " |  \n",
        " |  isFinished(...)\n",
        " |  \n",
        " |  isRunning(...)\n",
        " |  \n",
        " |  priority(...)\n",
        " |  \n",
        " |  quit(...)\n",
        " |  \n",
        " |  run(...)\n",
        " |  \n",
        " |  setPriority(...)\n",
        " |  \n",
        " |  setStackSize(...)\n",
        " |  \n",
        " |  stackSize(...)\n",
        " |  \n",
        " |  start(...)\n",
        " |  \n",
        " |  terminate(...)\n",
        " |  \n",
        " |  wait(...)\n",
        " |  \n",
        " |  ----------------------------------------------------------------------\n",
        " |  Static methods defined here:\n",
        " |  \n",
        " |  currentThread(...)\n",
        " |  \n",
        " |  currentThreadId(...)\n",
        " |  \n",
        " |  idealThreadCount(...)\n",
        " |  \n",
        " |  msleep(...)\n",
        " |  \n",
        " |  setTerminationEnabled(...)\n",
        " |  \n",
        " |  sleep(...)\n",
        " |  \n",
        " |  usleep(...)\n",
        " |  \n",
        " |  yieldCurrentThread(...)\n",
        " |  \n",
        " |  ----------------------------------------------------------------------\n",
        " |  Data and other attributes defined here:\n",
        " |  \n",
        " |  HighPriority = PySide.QtCore.QThread.Priority.HighPriority\n",
        " |  \n",
        " |  HighestPriority = PySide.QtCore.QThread.Priority.HighestPriority\n",
        " |  \n",
        " |  IdlePriority = PySide.QtCore.QThread.Priority.IdlePriority\n",
        " |  \n",
        " |  InheritPriority = PySide.QtCore.QThread.Priority.InheritPriority\n",
        " |  \n",
        " |  LowPriority = PySide.QtCore.QThread.Priority.LowPriority\n",
        " |  \n",
        " |  LowestPriority = PySide.QtCore.QThread.Priority.LowestPriority\n",
        " |  \n",
        " |  NormalPriority = PySide.QtCore.QThread.Priority.NormalPriority\n",
        " |  \n",
        " |  Priority = <type 'PySide.QtCore.QThread.Priority'>\n",
        " |  \n",
        " |  \n",
        " |  TimeCriticalPriority = PySide.QtCore.QThread.Priority.TimeCriticalPrio...\n",
        " |  \n",
        " |  __new__ = <built-in method __new__ of Shiboken.ObjectType object>\n",
        " |      T.__new__(S, ...) -> a new object with type S, a subtype of T\n",
        " |  \n",
        " |  finished = <PySide.QtCore.Signal object>\n",
        " |      Signal\n",
        " |  \n",
        " |  started = <PySide.QtCore.Signal object>\n",
        " |      Signal\n",
        " |  \n",
        " |  staticMetaObject = <PySide.QtCore.QMetaObject object>\n",
        " |  \n",
        " |  terminated = <PySide.QtCore.Signal object>\n",
        " |      Signal\n",
        " |  \n",
        " |  ----------------------------------------------------------------------\n",
        " |  Methods inherited from QObject:\n",
        " |  \n",
        " |  __delattr__(...)\n",
        " |      x.__delattr__('name') <==> del x.name\n",
        " |  \n",
        " |  __getattribute__(...)\n",
        " |      x.__getattribute__('name') <==> x.name\n",
        " |  \n",
        " |  __setattr__(...)\n",
        " |      x.__setattr__('name', value) <==> x.name = value\n",
        " |  \n",
        " |  blockSignals(...)\n",
        " |  \n",
        " |  childEvent(...)\n",
        " |  \n",
        " |  children(...)\n",
        " |  \n",
        " |  connectNotify(...)\n",
        " |  \n",
        " |  customEvent(...)\n",
        " |  \n",
        " |  deleteLater(...)\n",
        " |  \n",
        " |  disconnectNotify(...)\n",
        " |  \n",
        " |  dumpObjectInfo(...)\n",
        " |  \n",
        " |  dumpObjectTree(...)\n",
        " |  \n",
        " |  dynamicPropertyNames(...)\n",
        " |  \n",
        " |  emit(...)\n",
        " |  \n",
        " |  event(...)\n",
        " |  \n",
        " |  eventFilter(...)\n",
        " |  \n",
        " |  findChild(...)\n",
        " |  \n",
        " |  findChildren(...)\n",
        " |  \n",
        " |  inherits(...)\n",
        " |  \n",
        " |  installEventFilter(...)\n",
        " |  \n",
        " |  isWidgetType(...)\n",
        " |  \n",
        " |  killTimer(...)\n",
        " |  \n",
        " |  metaObject(...)\n",
        " |  \n",
        " |  moveToThread(...)\n",
        " |  \n",
        " |  objectName(...)\n",
        " |  \n",
        " |  parent(...)\n",
        " |  \n",
        " |  property(...)\n",
        " |  \n",
        " |  receivers(...)\n",
        " |  \n",
        " |  removeEventFilter(...)\n",
        " |  \n",
        " |  sender(...)\n",
        " |  \n",
        " |  senderSignalIndex(...)\n",
        " |  \n",
        " |  setObjectName(...)\n",
        " |  \n",
        " |  setParent(...)\n",
        " |  \n",
        " |  setProperty(...)\n",
        " |  \n",
        " |  signalsBlocked(...)\n",
        " |  \n",
        " |  startTimer(...)\n",
        " |  \n",
        " |  thread(...)\n",
        " |  \n",
        " |  timerEvent(...)\n",
        " |  \n",
        " |  tr(...)\n",
        " |  \n",
        " |  trUtf8(...)\n",
        " |  \n",
        " |  ----------------------------------------------------------------------\n",
        " |  Static methods inherited from QObject:\n",
        " |  \n",
        " |  connect(...)\n",
        " |  \n",
        " |  disconnect(...)\n",
        " |  \n",
        " |  registerUserData(...)\n",
        " |  \n",
        " |  ----------------------------------------------------------------------\n",
        " |  Data and other attributes inherited from QObject:\n",
        " |  \n",
        " |  destroyed = <PySide.QtCore.Signal object>\n",
        " |      Signal\n",
        " |  \n",
        " |  ----------------------------------------------------------------------\n",
        " |  Data descriptors inherited from Shiboken.Object:\n",
        " |  \n",
        " |  __dict__\n",
        "\n"
       ]
      }
     ],
     "prompt_number": 9
    },
    {
     "cell_type": "code",
     "collapsed": false,
     "input": [
      "class imageThread(QtCore.QThread):\n",
      "    def __init__(self, image1, image2):\n",
      "        QtCore.QThread.__init__(self)\n",
      "        a = sectionImageResolver(image1, image2)\n",
      "        return a.img"
     ],
     "language": "python",
     "metadata": {},
     "outputs": [
      {
       "output_type": "stream",
       "stream": "stdout",
       "text": [
        "<pyrecon.classes.Image.Image instance at 0x5a44c20>\n"
       ]
      }
     ],
     "prompt_number": 10
    },
    {
     "cell_type": "code",
     "collapsed": false,
     "input": [
      "imageThread(section1.image, section2.image)"
     ],
     "language": "python",
     "metadata": {},
     "outputs": [
      {
       "ename": "AttributeError",
       "evalue": "'sectionImageResolver' object has no attribute 'img'",
       "output_type": "pyerr",
       "traceback": [
        "\u001b[1;31m---------------------------------------------------------------------------\u001b[0m\n\u001b[1;31mAttributeError\u001b[0m                            Traceback (most recent call last)",
        "\u001b[1;32m<ipython-input-11-74578f4f2650>\u001b[0m in \u001b[0;36m<module>\u001b[1;34m()\u001b[0m\n\u001b[1;32m----> 1\u001b[1;33m \u001b[0mimageThread\u001b[0m\u001b[1;33m(\u001b[0m\u001b[0msection1\u001b[0m\u001b[1;33m.\u001b[0m\u001b[0mimage\u001b[0m\u001b[1;33m,\u001b[0m \u001b[0msection2\u001b[0m\u001b[1;33m.\u001b[0m\u001b[0mimage\u001b[0m\u001b[1;33m)\u001b[0m\u001b[1;33m\u001b[0m\u001b[0m\n\u001b[0m",
        "\u001b[1;32m<ipython-input-10-a78302c53a7f>\u001b[0m in \u001b[0;36m__init__\u001b[1;34m(self, image1, image2)\u001b[0m\n\u001b[0;32m      3\u001b[0m         \u001b[0mQtCore\u001b[0m\u001b[1;33m.\u001b[0m\u001b[0mQThread\u001b[0m\u001b[1;33m.\u001b[0m\u001b[0m__init__\u001b[0m\u001b[1;33m(\u001b[0m\u001b[0mself\u001b[0m\u001b[1;33m)\u001b[0m\u001b[1;33m\u001b[0m\u001b[0m\n\u001b[0;32m      4\u001b[0m         \u001b[0ma\u001b[0m \u001b[1;33m=\u001b[0m \u001b[0msectionImageResolver\u001b[0m\u001b[1;33m(\u001b[0m\u001b[0mimage1\u001b[0m\u001b[1;33m,\u001b[0m \u001b[0mimage2\u001b[0m\u001b[1;33m)\u001b[0m\u001b[1;33m\u001b[0m\u001b[0m\n\u001b[1;32m----> 5\u001b[1;33m         \u001b[1;32mreturn\u001b[0m \u001b[0ma\u001b[0m\u001b[1;33m.\u001b[0m\u001b[0mimg\u001b[0m\u001b[1;33m\u001b[0m\u001b[0m\n\u001b[0m",
        "\u001b[1;31mAttributeError\u001b[0m: 'sectionImageResolver' object has no attribute 'img'"
       ]
      }
     ],
     "prompt_number": 11
    },
    {
     "cell_type": "code",
     "collapsed": false,
     "input": [
      "\n",
      "\n"
     ],
     "language": "python",
     "metadata": {},
     "outputs": [
      {
       "output_type": "stream",
       "stream": "stdout",
       "text": [
        "<pyrecon.classes.Image.Image instance at 0x58b7998>\n"
       ]
      }
     ],
     "prompt_number": 11
    }
   ],
   "metadata": {}
  }
 ]
}