{
 "metadata": {
  "name": ""
 },
 "nbformat": 3,
 "nbformat_minor": 0,
 "worksheets": [
  {
   "cells": [
    {
     "cell_type": "code",
     "collapsed": false,
     "input": [
      "%gui qt\n",
      "import pyrecon\n",
      "from pyrecon.mergeTool.handlersGUI import sectionImages"
     ],
     "language": "python",
     "metadata": {},
     "outputs": [],
     "prompt_number": 1
    },
    {
     "cell_type": "code",
     "collapsed": false,
     "input": [
      "a = pyrecon.openSeries('/home/michaelm/Documents/Test Series/Tool Tests/merge/ser1')\n",
      "b = pyrecon.Series('/home/michaelm/Documents/Test Series/Tool Tests/merge/ser2', sections=True)"
     ],
     "language": "python",
     "metadata": {},
     "outputs": [
      {
       "output_type": "stream",
       "stream": "stdout",
       "text": [
        "Attempting to load sections...  SUCCESS!\n",
        "Attempting to load sections...  SUCCESS!\n"
       ]
      }
     ],
     "prompt_number": 2
    },
    {
     "cell_type": "code",
     "collapsed": false,
     "input": [
      "a = sectionImages(a.sections[5].image, b.sections[5].image)"
     ],
     "language": "python",
     "metadata": {},
     "outputs": [],
     "prompt_number": 3
    },
    {
     "cell_type": "code",
     "collapsed": false,
     "input": [],
     "language": "python",
     "metadata": {},
     "outputs": []
    }
   ],
   "metadata": {}
  }
 ]
}