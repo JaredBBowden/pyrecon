{
 "metadata": {
  "name": ""
 },
 "nbformat": 3,
 "nbformat_minor": 0,
 "worksheets": [
  {
   "cells": [
    {
     "cell_type": "code",
     "collapsed": false,
     "input": [
      "import pyrecon"
     ],
     "language": "python",
     "metadata": {},
     "outputs": [
      {
       "output_type": "stream",
       "stream": "stdout",
       "text": [
        "Initializing tools:\n",
        "\tmergeTool ready!\n",
        "\texcelTool ready!"
       ]
      },
      {
       "output_type": "stream",
       "stream": "stdout",
       "text": [
        "\n",
        "\tcurationTool ready!\n",
        "\tcalibrationTool ready!\n"
       ]
      }
     ],
     "prompt_number": 1
    },
    {
     "cell_type": "markdown",
     "metadata": {},
     "source": [
      "## 1. mergeTool"
     ]
    },
    {
     "cell_type": "code",
     "collapsed": false,
     "input": [
      "one = \n",
      "two = "
     ],
     "language": "python",
     "metadata": {},
     "outputs": []
    },
    {
     "cell_type": "markdown",
     "metadata": {},
     "source": [
      "## 2. calibrationTool"
     ]
    },
    {
     "cell_type": "markdown",
     "metadata": {},
     "source": [
      "## 3. curationTool"
     ]
    },
    {
     "cell_type": "markdown",
     "metadata": {},
     "source": [
      "## 4. excelTool"
     ]
    },
    {
     "cell_type": "code",
     "collapsed": false,
     "input": [
      "distant = pyrecon.openSeries('/home/michaelm/Documents/Test Series/Tool Tests/curation/distant')\n",
      "duplicate = pyrecon.openSeries('/home/michaelm/Documents/Test Series/Tool Tests/curation/duplicate')\n",
      "reverse = pyrecon.openSeries('/home/michaelm/Documents/Test Series/Tool Tests/curation/reverse')"
     ],
     "language": "python",
     "metadata": {},
     "outputs": [
      {
       "output_type": "stream",
       "stream": "stdout",
       "text": [
        "Attempting to load sections... "
       ]
      },
      {
       "output_type": "stream",
       "stream": "stdout",
       "text": [
        " SUCCESS!\n"
       ]
      }
     ],
     "prompt_number": 2
    },
    {
     "cell_type": "code",
     "collapsed": false,
     "input": [],
     "language": "python",
     "metadata": {},
     "outputs": [],
     "prompt_number": 3
    },
    {
     "cell_type": "code",
     "collapsed": false,
     "input": [],
     "language": "python",
     "metadata": {},
     "outputs": []
    }
   ],
   "metadata": {}
  }
 ]
}