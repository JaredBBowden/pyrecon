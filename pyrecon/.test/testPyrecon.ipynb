{
 "metadata": {
  "name": ""
 },
 "nbformat": 3,
 "nbformat_minor": 0,
 "worksheets": [
  {
   "cells": [
    {
     "cell_type": "markdown",
     "metadata": {},
     "source": [
      "# PyRECONSTRUCT Testing!"
     ]
    },
    {
     "cell_type": "code",
     "collapsed": false,
     "input": [
      "import pyrecon, os\n",
      "testDir = os.getcwd() # Change testDir to full path to .test/ if not already so\n",
      "print testDir"
     ],
     "language": "python",
     "metadata": {},
     "outputs": [
      {
       "output_type": "stream",
       "stream": "stdout",
       "text": [
        "/home/michaelm/Documents/pyrecon/pyrecon/.test\n"
       ]
      }
     ],
     "prompt_number": 6
    },
    {
     "cell_type": "markdown",
     "metadata": {},
     "source": [
      "## 1. Load test series"
     ]
    },
    {
     "cell_type": "markdown",
     "metadata": {},
     "source": [
      "> ## a. mergeTool"
     ]
    },
    {
     "cell_type": "code",
     "collapsed": false,
     "input": [
      "mergeDir = testDir+'/mergeTool/'\n",
      "# --- Load series for merge testin ---\n",
      "one = pyrecon.openSeries( mergeDir+'1' )\n",
      "two = pyrecon.openSeries( mergeDir+'2' )"
     ],
     "language": "python",
     "metadata": {},
     "outputs": [
      {
       "output_type": "stream",
       "stream": "stdout",
       "text": [
        "Attempting to load sections...  SUCCESS!\n",
        "Attempting to load sections...  SUCCESS!\n"
       ]
      }
     ],
     "prompt_number": 7
    },
    {
     "cell_type": "markdown",
     "metadata": {},
     "source": [
      "> ## b. calibrationTool"
     ]
    },
    {
     "cell_type": "code",
     "collapsed": false,
     "input": [
      "calibrationDir = testDir+'/calibrationTool/'\n",
      "# --- Load series for calibration testing ---\n",
      "calib = pyrecon.openSeries( calibrationDir+'calibration.ser' )"
     ],
     "language": "python",
     "metadata": {},
     "outputs": [
      {
       "output_type": "stream",
       "stream": "stdout",
       "text": [
        "Attempting to load sections... "
       ]
      },
      {
       "output_type": "stream",
       "stream": "stdout",
       "text": [
        " SUCCESS!\n"
       ]
      }
     ],
     "prompt_number": 8
    },
    {
     "cell_type": "markdown",
     "metadata": {},
     "source": [
      "> ## c. curationTool"
     ]
    },
    {
     "cell_type": "code",
     "collapsed": false,
     "input": [
      "curationDir = testDir+'/curationTool/'\n",
      "# --- Load series of different curationTool checks ---\n",
      "distant = pyrecon.openSeries( curationDir+'distant' )\n",
      "duplicate = pyrecon.openSeries( curationDir+'duplicate' )\n",
      "reverse = pyrecon.openSeries( curationDir+'reverse' )"
     ],
     "language": "python",
     "metadata": {},
     "outputs": [
      {
       "output_type": "stream",
       "stream": "stdout",
       "text": [
        "Attempting to load sections... "
       ]
      },
      {
       "output_type": "stream",
       "stream": "stdout",
       "text": [
        " SUCCESS!\n",
        "Attempting to load sections...  SUCCESS!\n",
        "Attempting to load sections...  SUCCESS!\n"
       ]
      }
     ],
     "prompt_number": 9
    },
    {
     "cell_type": "markdown",
     "metadata": {},
     "source": [
      "> ## d. excelTool"
     ]
    },
    {
     "cell_type": "code",
     "collapsed": false,
     "input": [
      "excelDir = testDir+'/excelTool/'\n",
      "# --- Load series for excelTool testing ---\n",
      "excel = pyrecon.openSeries( excelDir+'excel.ser' )"
     ],
     "language": "python",
     "metadata": {},
     "outputs": [
      {
       "output_type": "stream",
       "stream": "stdout",
       "text": [
        "Attempting to load sections... "
       ]
      },
      {
       "output_type": "stream",
       "stream": "stdout",
       "text": [
        " SUCCESS!\n"
       ]
      }
     ],
     "prompt_number": 10
    },
    {
     "cell_type": "markdown",
     "metadata": {},
     "source": [
      "## 2. Perform tests"
     ]
    },
    {
     "cell_type": "code",
     "collapsed": false,
     "input": [],
     "language": "python",
     "metadata": {},
     "outputs": []
    }
   ],
   "metadata": {}
  }
 ]
}