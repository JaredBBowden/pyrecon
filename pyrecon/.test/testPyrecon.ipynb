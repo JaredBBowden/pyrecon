{
 "metadata": {
  "name": ""
 },
 "nbformat": 3,
 "nbformat_minor": 0,
 "worksheets": [
  {
   "cells": [
    {
     "cell_type": "markdown",
     "metadata": {},
     "source": [
      "# PyRECONSTRUCT Testing!"
     ]
    },
    {
     "cell_type": "code",
     "collapsed": false,
     "input": [
      "import pyrecon, os\n",
      "testDir = os.getcwd() # Change testDir to full path to .test/ if not already so\n",
      "print '---'\n",
      "print testDir"
     ],
     "language": "python",
     "metadata": {},
     "outputs": [
      {
       "output_type": "stream",
       "stream": "stdout",
       "text": [
        "Initializing tools:\n",
        "\tmergeTool ready!\n",
        "\texcelTool ready!"
       ]
      },
      {
       "output_type": "stream",
       "stream": "stdout",
       "text": [
        "\n",
        "\tcurationTool ready!\n",
        "\tcalibrationTool ready!\n",
        "---\n",
        "/home/michaelm/Documents/pyrecon/pyrecon/.test\n"
       ]
      }
     ],
     "prompt_number": 1
    },
    {
     "cell_type": "markdown",
     "metadata": {},
     "source": [
      "## 1. Load test series"
     ]
    },
    {
     "cell_type": "markdown",
     "metadata": {},
     "source": [
      "> ## a. mergeTool"
     ]
    },
    {
     "cell_type": "code",
     "collapsed": false,
     "input": [
      "mergeDir = testDir+'/mergeTool/'\n",
      "# --- Load series for merge testin ---\n",
      "one = pyrecon.openSeries( mergeDir+'1' )\n",
      "two = pyrecon.openSeries( mergeDir+'2' )"
     ],
     "language": "python",
     "metadata": {},
     "outputs": [
      {
       "output_type": "stream",
       "stream": "stdout",
       "text": [
        "Attempting to load sections...  SUCCESS!\n",
        "Attempting to load sections...  SUCCESS!\n"
       ]
      }
     ],
     "prompt_number": 2
    },
    {
     "cell_type": "markdown",
     "metadata": {},
     "source": [
      "> ## b. calibrationTool"
     ]
    },
    {
     "cell_type": "code",
     "collapsed": false,
     "input": [
      "calibrationDir = testDir+'/calibrationTool/'\n",
      "# --- Load series for calibration testing ---\n",
      "calib = pyrecon.openSeries( calibrationDir+'calibration.ser' )"
     ],
     "language": "python",
     "metadata": {},
     "outputs": [
      {
       "output_type": "stream",
       "stream": "stdout",
       "text": [
        "Attempting to load sections... "
       ]
      },
      {
       "output_type": "stream",
       "stream": "stdout",
       "text": [
        " SUCCESS!\n"
       ]
      }
     ],
     "prompt_number": 3
    },
    {
     "cell_type": "markdown",
     "metadata": {},
     "source": [
      "> ## c. curationTool"
     ]
    },
    {
     "cell_type": "code",
     "collapsed": false,
     "input": [
      "curationDir = testDir+'/curationTool/'\n",
      "# --- Load series of different curationTool checks ---\n",
      "distant = pyrecon.openSeries( curationDir+'distant' )\n",
      "duplicate = pyrecon.openSeries( curationDir+'duplicate' )\n",
      "reverse = pyrecon.openSeries( curationDir+'reverse' )"
     ],
     "language": "python",
     "metadata": {},
     "outputs": [
      {
       "output_type": "stream",
       "stream": "stdout",
       "text": [
        "Attempting to load sections... "
       ]
      },
      {
       "output_type": "stream",
       "stream": "stdout",
       "text": [
        " SUCCESS!\n",
        "Attempting to load sections...  SUCCESS!\n",
        "Attempting to load sections...  SUCCESS!\n"
       ]
      }
     ],
     "prompt_number": 4
    },
    {
     "cell_type": "markdown",
     "metadata": {},
     "source": [
      "> ## d. excelTool"
     ]
    },
    {
     "cell_type": "code",
     "collapsed": false,
     "input": [
      "excelDir = testDir+'/excelTool/'\n",
      "# --- Load series for excelTool testing ---\n",
      "excel = pyrecon.openSeries( excelDir+'excel.ser' )"
     ],
     "language": "python",
     "metadata": {},
     "outputs": [
      {
       "output_type": "stream",
       "stream": "stdout",
       "text": [
        "Attempting to load sections... "
       ]
      },
      {
       "output_type": "stream",
       "stream": "stdout",
       "text": [
        " SUCCESS!\n"
       ]
      }
     ],
     "prompt_number": 10
    },
    {
     "cell_type": "markdown",
     "metadata": {},
     "source": [
      "## 2. Perform tests"
     ]
    },
    {
     "cell_type": "code",
     "collapsed": false,
     "input": [
      "def testMergeTool():\n",
      "    # Keep 1 stuff\n",
      "    # Keep 2 stuff\n",
      "    # Keep both stuff\n",
      "    return\n",
      "def testCalibrationTool():\n",
      "    return\n",
      "def testCurationTool():\n",
      "    return\n",
      "def testExcelTool():\n",
      "    return"
     ],
     "language": "python",
     "metadata": {},
     "outputs": []
    },
    {
     "cell_type": "code",
     "collapsed": false,
     "input": [],
     "language": "python",
     "metadata": {},
     "outputs": [
      {
       "output_type": "stream",
       "stream": "stdout",
       "text": [
        "Sections: merge.0, merge.0\n",
        "Sections: merge.1, merge.1"
       ]
      },
      {
       "output_type": "stream",
       "stream": "stdout",
       "text": [
        "\n",
        "Sections: merge.2, merge.2"
       ]
      }
     ],
     "prompt_number": "*"
    },
    {
     "cell_type": "code",
     "collapsed": false,
     "input": [],
     "language": "python",
     "metadata": {},
     "outputs": [],
     "prompt_number": "*"
    },
    {
     "cell_type": "code",
     "collapsed": false,
     "input": [],
     "language": "python",
     "metadata": {},
     "outputs": [],
     "prompt_number": "*"
    },
    {
     "cell_type": "code",
     "collapsed": false,
     "input": [],
     "language": "python",
     "metadata": {},
     "outputs": [],
     "prompt_number": "*"
    },
    {
     "cell_type": "code",
     "collapsed": false,
     "input": [],
     "language": "python",
     "metadata": {},
     "outputs": []
    }
   ],
   "metadata": {}
  }
 ]
}